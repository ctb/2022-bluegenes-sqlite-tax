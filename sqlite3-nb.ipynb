{
 "cells": [
  {
   "cell_type": "code",
   "execution_count": 1,
   "id": "bcf4cc84",
   "metadata": {},
   "outputs": [
    {
     "name": "stdout",
     "output_type": "stream",
     "text": [
      "gtdb-rs202.minitax.csv\r\n",
      "gtdb-rs202.nucleotide-k31-scaled1000.3fam.csv\r\n",
      "sqlite3-nb.ipynb\r\n"
     ]
    }
   ],
   "source": [
    "ls"
   ]
  },
  {
   "cell_type": "code",
   "execution_count": 3,
   "id": "fd4b229c",
   "metadata": {},
   "outputs": [],
   "source": [
    "import pandas\n"
   ]
  },
  {
   "cell_type": "code",
   "execution_count": 5,
   "id": "b892f1a9",
   "metadata": {},
   "outputs": [],
   "source": [
    "minitax_df = pandas.read_csv('gtdb-rs202.minitax.csv')\n",
    "fam_df = pandas.read_csv('gtdb-rs202.nucleotide-k31-scaled1000.3fam.csv')"
   ]
  },
  {
   "cell_type": "code",
   "execution_count": 6,
   "id": "fedf5075",
   "metadata": {},
   "outputs": [
    {
     "data": {
      "text/html": [
       "<div>\n",
       "<style scoped>\n",
       "    .dataframe tbody tr th:only-of-type {\n",
       "        vertical-align: middle;\n",
       "    }\n",
       "\n",
       "    .dataframe tbody tr th {\n",
       "        vertical-align: top;\n",
       "    }\n",
       "\n",
       "    .dataframe thead th {\n",
       "        text-align: right;\n",
       "    }\n",
       "</style>\n",
       "<table border=\"1\" class=\"dataframe\">\n",
       "  <thead>\n",
       "    <tr style=\"text-align: right;\">\n",
       "      <th></th>\n",
       "      <th>ident</th>\n",
       "      <th>superkingdom</th>\n",
       "      <th>phylum</th>\n",
       "      <th>class</th>\n",
       "      <th>order</th>\n",
       "      <th>family</th>\n",
       "      <th>genus</th>\n",
       "      <th>species</th>\n",
       "    </tr>\n",
       "  </thead>\n",
       "  <tbody>\n",
       "    <tr>\n",
       "      <th>0</th>\n",
       "      <td>GCF_900061175.1</td>\n",
       "      <td>d__Bacteria</td>\n",
       "      <td>p__Firmicutes</td>\n",
       "      <td>c__Bacilli</td>\n",
       "      <td>o__Lactobacillales</td>\n",
       "      <td>f__Streptococcaceae</td>\n",
       "      <td>g__Streptococcus</td>\n",
       "      <td>s__Streptococcus pneumoniae</td>\n",
       "    </tr>\n",
       "    <tr>\n",
       "      <th>1</th>\n",
       "      <td>GCF_001329375.1</td>\n",
       "      <td>d__Bacteria</td>\n",
       "      <td>p__Firmicutes</td>\n",
       "      <td>c__Bacilli</td>\n",
       "      <td>o__Lactobacillales</td>\n",
       "      <td>f__Streptococcaceae</td>\n",
       "      <td>g__Streptococcus</td>\n",
       "      <td>s__Streptococcus pneumoniae</td>\n",
       "    </tr>\n",
       "    <tr>\n",
       "      <th>2</th>\n",
       "      <td>GCF_001151245.1</td>\n",
       "      <td>d__Bacteria</td>\n",
       "      <td>p__Firmicutes</td>\n",
       "      <td>c__Bacilli</td>\n",
       "      <td>o__Lactobacillales</td>\n",
       "      <td>f__Streptococcaceae</td>\n",
       "      <td>g__Streptococcus</td>\n",
       "      <td>s__Streptococcus pneumoniae</td>\n",
       "    </tr>\n",
       "    <tr>\n",
       "      <th>3</th>\n",
       "      <td>GCF_001104245.1</td>\n",
       "      <td>d__Bacteria</td>\n",
       "      <td>p__Firmicutes</td>\n",
       "      <td>c__Bacilli</td>\n",
       "      <td>o__Lactobacillales</td>\n",
       "      <td>f__Streptococcaceae</td>\n",
       "      <td>g__Streptococcus</td>\n",
       "      <td>s__Streptococcus pneumoniae</td>\n",
       "    </tr>\n",
       "    <tr>\n",
       "      <th>4</th>\n",
       "      <td>GCF_900194725.1</td>\n",
       "      <td>d__Bacteria</td>\n",
       "      <td>p__Firmicutes</td>\n",
       "      <td>c__Bacilli</td>\n",
       "      <td>o__Lactobacillales</td>\n",
       "      <td>f__Streptococcaceae</td>\n",
       "      <td>g__Streptococcus</td>\n",
       "      <td>s__Streptococcus pneumoniae</td>\n",
       "    </tr>\n",
       "  </tbody>\n",
       "</table>\n",
       "</div>"
      ],
      "text/plain": [
       "             ident superkingdom         phylum       class  \\\n",
       "0  GCF_900061175.1  d__Bacteria  p__Firmicutes  c__Bacilli   \n",
       "1  GCF_001329375.1  d__Bacteria  p__Firmicutes  c__Bacilli   \n",
       "2  GCF_001151245.1  d__Bacteria  p__Firmicutes  c__Bacilli   \n",
       "3  GCF_001104245.1  d__Bacteria  p__Firmicutes  c__Bacilli   \n",
       "4  GCF_900194725.1  d__Bacteria  p__Firmicutes  c__Bacilli   \n",
       "\n",
       "                order               family             genus  \\\n",
       "0  o__Lactobacillales  f__Streptococcaceae  g__Streptococcus   \n",
       "1  o__Lactobacillales  f__Streptococcaceae  g__Streptococcus   \n",
       "2  o__Lactobacillales  f__Streptococcaceae  g__Streptococcus   \n",
       "3  o__Lactobacillales  f__Streptococcaceae  g__Streptococcus   \n",
       "4  o__Lactobacillales  f__Streptococcaceae  g__Streptococcus   \n",
       "\n",
       "                       species  \n",
       "0  s__Streptococcus pneumoniae  \n",
       "1  s__Streptococcus pneumoniae  \n",
       "2  s__Streptococcus pneumoniae  \n",
       "3  s__Streptococcus pneumoniae  \n",
       "4  s__Streptococcus pneumoniae  "
      ]
     },
     "execution_count": 6,
     "metadata": {},
     "output_type": "execute_result"
    }
   ],
   "source": [
    "minitax_df.head()\n"
   ]
  },
  {
   "cell_type": "code",
   "execution_count": 8,
   "id": "4a793a3c",
   "metadata": {},
   "outputs": [
    {
     "data": {
      "text/html": [
       "<div>\n",
       "<style scoped>\n",
       "    .dataframe tbody tr th:only-of-type {\n",
       "        vertical-align: middle;\n",
       "    }\n",
       "\n",
       "    .dataframe tbody tr th {\n",
       "        vertical-align: top;\n",
       "    }\n",
       "\n",
       "    .dataframe thead th {\n",
       "        text-align: right;\n",
       "    }\n",
       "</style>\n",
       "<table border=\"1\" class=\"dataframe\">\n",
       "  <thead>\n",
       "    <tr style=\"text-align: right;\">\n",
       "      <th></th>\n",
       "      <th>match_name</th>\n",
       "      <th>query_name</th>\n",
       "      <th>max_containment_ani</th>\n",
       "    </tr>\n",
       "  </thead>\n",
       "  <tbody>\n",
       "    <tr>\n",
       "      <th>0</th>\n",
       "      <td>GCA_901482365.1 Streptococcus pneumoniae strai...</td>\n",
       "      <td>GCF_002950215.1 Shigella flexneri 2a strain=AT...</td>\n",
       "      <td>0.980574</td>\n",
       "    </tr>\n",
       "    <tr>\n",
       "      <th>1</th>\n",
       "      <td>GCF_013276505.1 Streptococcus sp. 5905 strain=...</td>\n",
       "      <td>GCF_001457635.1 Streptococcus pneumoniae strai...</td>\n",
       "      <td>0.887623</td>\n",
       "    </tr>\n",
       "    <tr>\n",
       "      <th>2</th>\n",
       "      <td>GCF_900104285.1 Streptococcus sp. NLAE-zl-C503...</td>\n",
       "      <td>GCF_001457635.1 Streptococcus pneumoniae strai...</td>\n",
       "      <td>0.889611</td>\n",
       "    </tr>\n",
       "    <tr>\n",
       "      <th>3</th>\n",
       "      <td>GCF_009496155.1 Streptococcus mitis strain=SM1...</td>\n",
       "      <td>GCF_001457635.1 Streptococcus pneumoniae strai...</td>\n",
       "      <td>0.928279</td>\n",
       "    </tr>\n",
       "    <tr>\n",
       "      <th>4</th>\n",
       "      <td>GCF_003944215.1 Streptococcus oralis strain=BC...</td>\n",
       "      <td>GCF_001457635.1 Streptococcus pneumoniae strai...</td>\n",
       "      <td>0.884512</td>\n",
       "    </tr>\n",
       "  </tbody>\n",
       "</table>\n",
       "</div>"
      ],
      "text/plain": [
       "                                          match_name  \\\n",
       "0  GCA_901482365.1 Streptococcus pneumoniae strai...   \n",
       "1  GCF_013276505.1 Streptococcus sp. 5905 strain=...   \n",
       "2  GCF_900104285.1 Streptococcus sp. NLAE-zl-C503...   \n",
       "3  GCF_009496155.1 Streptococcus mitis strain=SM1...   \n",
       "4  GCF_003944215.1 Streptococcus oralis strain=BC...   \n",
       "\n",
       "                                          query_name  max_containment_ani  \n",
       "0  GCF_002950215.1 Shigella flexneri 2a strain=AT...             0.980574  \n",
       "1  GCF_001457635.1 Streptococcus pneumoniae strai...             0.887623  \n",
       "2  GCF_001457635.1 Streptococcus pneumoniae strai...             0.889611  \n",
       "3  GCF_001457635.1 Streptococcus pneumoniae strai...             0.928279  \n",
       "4  GCF_001457635.1 Streptococcus pneumoniae strai...             0.884512  "
      ]
     },
     "execution_count": 8,
     "metadata": {},
     "output_type": "execute_result"
    }
   ],
   "source": [
    "fam_df[['match_name', 'query_name', 'max_containment_ani']].head()"
   ]
  },
  {
   "cell_type": "markdown",
   "id": "07a60de2",
   "metadata": {},
   "source": [
    "## A small sqlite3 primer"
   ]
  },
  {
   "cell_type": "code",
   "execution_count": 9,
   "id": "11a164d9",
   "metadata": {},
   "outputs": [],
   "source": [
    "import sqlite3\n",
    "\n",
    "db = sqlite3.connect('example.sqlite3')\n",
    "cursor = db.cursor()"
   ]
  },
  {
   "cell_type": "code",
   "execution_count": 11,
   "id": "fb07251b",
   "metadata": {},
   "outputs": [
    {
     "data": {
      "text/plain": [
       "<sqlite3.Cursor at 0x1244e7a40>"
      ]
     },
     "execution_count": 11,
     "metadata": {},
     "output_type": "execute_result"
    }
   ],
   "source": [
    "cursor.execute('CREATE TABLE comparisons (ident1 TEXT NOT NULL, ident2 TEXT NOT NULL, ani FLOAT NOT NULL)')"
   ]
  },
  {
   "cell_type": "code",
   "execution_count": 12,
   "id": "07888e3d",
   "metadata": {},
   "outputs": [
    {
     "data": {
      "text/plain": [
       "<sqlite3.Cursor at 0x1244e7a40>"
      ]
     },
     "execution_count": 12,
     "metadata": {},
     "output_type": "execute_result"
    }
   ],
   "source": [
    "cursor.execute('INSERT INTO comparisons (ident1, ident2, ani) VALUES (?, ?, ?)', \n",
    "               ('a', 'b', 5))"
   ]
  },
  {
   "cell_type": "code",
   "execution_count": 14,
   "id": "8d327432",
   "metadata": {},
   "outputs": [
    {
     "data": {
      "text/plain": [
       "<sqlite3.Cursor at 0x1244e7a40>"
      ]
     },
     "execution_count": 14,
     "metadata": {},
     "output_type": "execute_result"
    }
   ],
   "source": [
    "cursor.execute('SELECT ident1, ident2, ani FROM comparisons')"
   ]
  },
  {
   "cell_type": "code",
   "execution_count": 15,
   "id": "82167f7c",
   "metadata": {},
   "outputs": [
    {
     "data": {
      "text/plain": [
       "[('a', 'b', 5.0)]"
      ]
     },
     "execution_count": 15,
     "metadata": {},
     "output_type": "execute_result"
    }
   ],
   "source": [
    "cursor.fetchall()"
   ]
  },
  {
   "cell_type": "code",
   "execution_count": 16,
   "id": "fe3b61fe",
   "metadata": {},
   "outputs": [
    {
     "data": {
      "text/plain": [
       "<sqlite3.Cursor at 0x1244e7a40>"
      ]
     },
     "execution_count": 16,
     "metadata": {},
     "output_type": "execute_result"
    }
   ],
   "source": [
    "cursor.execute('INSERT INTO comparisons (ident1, ident2, ani) VALUES (?, ?, ?)', \n",
    "               ('c', 'd', 10))"
   ]
  },
  {
   "cell_type": "code",
   "execution_count": 17,
   "id": "d7a95222",
   "metadata": {},
   "outputs": [
    {
     "data": {
      "text/plain": [
       "<sqlite3.Cursor at 0x1244e7a40>"
      ]
     },
     "execution_count": 17,
     "metadata": {},
     "output_type": "execute_result"
    }
   ],
   "source": [
    "cursor.execute('SELECT ident1, ident2, ani FROM comparisons')"
   ]
  },
  {
   "cell_type": "code",
   "execution_count": 18,
   "id": "47f71bce",
   "metadata": {},
   "outputs": [
    {
     "data": {
      "text/plain": [
       "[('a', 'b', 5.0), ('c', 'd', 10.0)]"
      ]
     },
     "execution_count": 18,
     "metadata": {},
     "output_type": "execute_result"
    }
   ],
   "source": [
    "cursor.fetchall()"
   ]
  },
  {
   "cell_type": "code",
   "execution_count": 20,
   "id": "f58dc8d3",
   "metadata": {},
   "outputs": [],
   "source": [
    "db.commit()"
   ]
  },
  {
   "cell_type": "code",
   "execution_count": 21,
   "id": "2228e29c",
   "metadata": {},
   "outputs": [
    {
     "data": {
      "text/plain": [
       "[('c', 'd', 10.0)]"
      ]
     },
     "execution_count": 21,
     "metadata": {},
     "output_type": "execute_result"
    }
   ],
   "source": [
    "cursor.execute('SELECT ident1, ident2, ani FROM comparisons WHERE ani > 5')\n",
    "cursor.fetchall()"
   ]
  },
  {
   "cell_type": "code",
   "execution_count": 22,
   "id": "d95f7d34",
   "metadata": {},
   "outputs": [
    {
     "name": "stdout",
     "output_type": "stream",
     "text": [
      "('c', 'd', 10.0)\n"
     ]
    }
   ],
   "source": [
    "cursor.execute('SELECT ident1, ident2, ani FROM comparisons WHERE ani > 5')\n",
    "for tup in cursor:\n",
    "    print(tup)"
   ]
  },
  {
   "cell_type": "code",
   "execution_count": 29,
   "id": "4baaf265",
   "metadata": {},
   "outputs": [
    {
     "data": {
      "text/plain": [
       "[(10.0,)]"
      ]
     },
     "execution_count": 29,
     "metadata": {},
     "output_type": "execute_result"
    }
   ],
   "source": [
    "cursor.execute('SELECT MAX(ani) from comparisons')\n",
    "cursor.fetchall()"
   ]
  },
  {
   "cell_type": "code",
   "execution_count": 30,
   "id": "c2aa79ec",
   "metadata": {},
   "outputs": [
    {
     "data": {
      "text/plain": [
       "[(5.0,)]"
      ]
     },
     "execution_count": 30,
     "metadata": {},
     "output_type": "execute_result"
    }
   ],
   "source": [
    "cursor.execute('SELECT MIN(ani) from comparisons')\n",
    "cursor.fetchall()"
   ]
  },
  {
   "cell_type": "code",
   "execution_count": 33,
   "id": "dc1af145",
   "metadata": {},
   "outputs": [
    {
     "data": {
      "text/plain": [
       "[(10.0,)]"
      ]
     },
     "execution_count": 33,
     "metadata": {},
     "output_type": "execute_result"
    }
   ],
   "source": [
    "cursor.execute('SELECT AVG(ani) from comparisons WHERE ani > 5')\n",
    "cursor.fetchall()"
   ]
  },
  {
   "cell_type": "code",
   "execution_count": 37,
   "id": "a17d07a2",
   "metadata": {},
   "outputs": [
    {
     "name": "stdout",
     "output_type": "stream",
     "text": [
      "('c', 'd', 10.0)\n"
     ]
    }
   ],
   "source": [
    "cursor.execute('SELECT ident1, ident2, ani FROM comparisons ORDER BY ani DESC LIMIT 1')\n",
    "for tup in cursor:\n",
    "    print(tup)"
   ]
  },
  {
   "cell_type": "code",
   "execution_count": 38,
   "id": "056bd033",
   "metadata": {},
   "outputs": [
    {
     "data": {
      "text/plain": [
       "<sqlite3.Cursor at 0x1244e7a40>"
      ]
     },
     "execution_count": 38,
     "metadata": {},
     "output_type": "execute_result"
    }
   ],
   "source": [
    "cursor.execute('CREATE TABLE lineages (ident TEXT NOT NULL, lineage TEXT NOT NULL)')"
   ]
  },
  {
   "cell_type": "code",
   "execution_count": 39,
   "id": "9f51082c",
   "metadata": {},
   "outputs": [
    {
     "data": {
      "text/plain": [
       "[('a',), ('c',)]"
      ]
     },
     "execution_count": 39,
     "metadata": {},
     "output_type": "execute_result"
    }
   ],
   "source": [
    "cursor.execute('SELECT DISTINCT ident1 FROM comparisons')\n",
    "cursor.fetchall()"
   ]
  },
  {
   "cell_type": "code",
   "execution_count": 40,
   "id": "d725a923",
   "metadata": {},
   "outputs": [
    {
     "data": {
      "text/plain": [
       "[('b',), ('d',)]"
      ]
     },
     "execution_count": 40,
     "metadata": {},
     "output_type": "execute_result"
    }
   ],
   "source": [
    "cursor.execute('SELECT DISTINCT ident2 FROM comparisons')\n",
    "cursor.fetchall()"
   ]
  },
  {
   "cell_type": "code",
   "execution_count": 42,
   "id": "8ed5d575",
   "metadata": {},
   "outputs": [
    {
     "data": {
      "text/plain": [
       "<sqlite3.Cursor at 0x1244e7a40>"
      ]
     },
     "execution_count": 42,
     "metadata": {},
     "output_type": "execute_result"
    }
   ],
   "source": [
    "cursor.executemany('INSERT INTO lineages (ident, lineage) VALUES (?, ?)',\n",
    "                   (('a', 'lin1'), ('b', 'lin2'), ('c', 'lin1'), ('d', 'lin3')))"
   ]
  },
  {
   "cell_type": "code",
   "execution_count": 48,
   "id": "3ae07621",
   "metadata": {},
   "outputs": [
    {
     "data": {
      "text/plain": [
       "[]"
      ]
     },
     "execution_count": 48,
     "metadata": {},
     "output_type": "execute_result"
    }
   ],
   "source": [
    "cursor.execute('''SELECT ani FROM comparisons, lineages\n",
    "WHERE comparisons.ident1=lineages.ident\n",
    "AND comparisons.ident2=lineages.ident''')\n",
    "cursor.fetchall()"
   ]
  },
  {
   "cell_type": "markdown",
   "id": "92e2847d",
   "metadata": {},
   "source": [
    "## trying again"
   ]
  },
  {
   "cell_type": "code",
   "execution_count": 55,
   "id": "ed346a08",
   "metadata": {},
   "outputs": [
    {
     "data": {
      "text/plain": [
       "<sqlite3.Cursor at 0x12455cb20>"
      ]
     },
     "execution_count": 55,
     "metadata": {},
     "output_type": "execute_result"
    }
   ],
   "source": [
    "db = sqlite3.connect(':memory:')\n",
    "c = db.cursor()\n",
    "\n",
    "c.execute('''\n",
    "CREATE TABLE comparisons (\n",
    "ident1 TEXT NOT NULL,\n",
    "ident2 TEXT NOT NULL,\n",
    "lca_rank TEXT NOT NULL,\n",
    "lca_name TEXT NOT NULL,\n",
    "ani FLOAT NOT NULL\n",
    ")\n",
    "''')\n",
    "\n",
    "c.executemany('''\n",
    "INSERT INTO comparisons (ident1, ident2, lca_rank, lca_name, ani) VALUES (?, ?, ?, ?, ?)\n",
    "''',\n",
    "            (('a', 'b', 'phylum', 'foo', 0.1),\n",
    "             ('a', 'd', 'phylum', 'foofiz', 0.2),\n",
    "             ('a', 'c', 'family', 'fiz', 0.4)))"
   ]
  },
  {
   "cell_type": "code",
   "execution_count": 56,
   "id": "e2e43ada",
   "metadata": {},
   "outputs": [
    {
     "data": {
      "text/plain": [
       "[(0.1, 0.15000000000000002, 0.2)]"
      ]
     },
     "execution_count": 56,
     "metadata": {},
     "output_type": "execute_result"
    }
   ],
   "source": [
    "c.execute('''\n",
    "SELECT MIN(ani), AVG(ani), MAX(ani) FROM comparisons WHERE lca_rank=?\n",
    "''', ('phylum',))\n",
    "c.fetchall()"
   ]
  },
  {
   "cell_type": "code",
   "execution_count": null,
   "id": "90f848a0",
   "metadata": {},
   "outputs": [],
   "source": []
  }
 ],
 "metadata": {
  "kernelspec": {
   "display_name": "py38arm",
   "language": "python",
   "name": "py38arm"
  },
  "language_info": {
   "codemirror_mode": {
    "name": "ipython",
    "version": 3
   },
   "file_extension": ".py",
   "mimetype": "text/x-python",
   "name": "python",
   "nbconvert_exporter": "python",
   "pygments_lexer": "ipython3",
   "version": "3.8.13"
  }
 },
 "nbformat": 4,
 "nbformat_minor": 5
}
